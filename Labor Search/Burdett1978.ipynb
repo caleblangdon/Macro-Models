{
 "cells": [
  {
   "cell_type": "code",
   "execution_count": 1,
   "metadata": {},
   "outputs": [],
   "source": [
    "using Plots"
   ]
  },
  {
   "cell_type": "code",
   "execution_count": null,
   "metadata": {},
   "outputs": [],
   "source": [
    "struct Burdett1978\n",
    "    b           # unemployment benefit\n",
    "    λ_u         # ...\n",
    "    λ_e         # \n",
    "    w_lb        # \n",
    "    w_ub        # \n",
    "    α           # \n",
    "    κ           # \n",
    "    β           # \n",
    "    δ           # \n",
    "    μ           # \n",
    "    σ           # \n",
    "    m           # \n",
    "end"
   ]
  },
  {
   "cell_type": "code",
   "execution_count": null,
   "metadata": {},
   "outputs": [],
   "source": [
    "function Burdett1978(;\n",
    "    b=2,\n",
    "    λ_u=0.2,\n",
    "    λ_e=0.3,\n",
    "    w_lb=0.01,\n",
    "    w_ub=30,\n",
    "    α=1,\n",
    "    κ=2,\n",
    "    β=0.995,\n",
    "    δ=0.03,\n",
    "    μ=2.15,\n",
    "    σ=0.46,\n",
    "    m=10,\n",
    "    )\n",
    "    \n",
    "    model = Burdett1978(b,\n",
    "    λ_u,\n",
    "    λ_e,\n",
    "    w_lb,\n",
    "    w_ub,\n",
    "    α,\n",
    "    κ,\n",
    "    β,\n",
    "    δ,\n",
    "    μ,\n",
    "    σ,\n",
    "    m)"
   ]
  }
 ],
 "metadata": {
  "kernelspec": {
   "display_name": "Julia 1.11.2",
   "language": "julia",
   "name": "julia-1.11"
  },
  "language_info": {
   "file_extension": ".jl",
   "mimetype": "application/julia",
   "name": "julia",
   "version": "1.11.2"
  }
 },
 "nbformat": 4,
 "nbformat_minor": 2
}
